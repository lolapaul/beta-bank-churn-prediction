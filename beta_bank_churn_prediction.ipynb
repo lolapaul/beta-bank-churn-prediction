{
 "cells": [
  {
   "cell_type": "markdown",
   "metadata": {},
   "source": [
    "¡Hola!\n",
    "\n",
    "Mi nombre es Marcos Torres y tengo el gusto de revisar tu código el día de hoy.\n",
    "\n",
    "Cuando vea algo notable o algún asunto en el notebook, te dejaré un comentario o un hint. Se que encontraras la mejor respuesta para resolver todos los comentarios, de no ser así, no te preocupes en futuras iteraciones dejaré comentarios y pistas más específicos.\n",
    "\n",
    "Este proceso es muy parecido al que se recibe de un gerente o de un Senior Data Scientist en un trabajo real, por lo que te estarás preparando para la experiencia en la vida real.\n",
    "\n",
    "Encontrarás comentarios en verde, amarillo o rojo como los siguientes:\n",
    "\n",
    "<div class=\"alert alert-block alert-success\">\n",
    "<b>Comentario del revisor</b> <a class=\"tocSkip\"></a>\n",
    "\n",
    "Buen trabajo. ¡Lo hiciste muy bien!\n",
    "</div>\n",
    "\n",
    "<div class=\"alert alert-block alert-warning\">\n",
    "<b>Comentario del revisor</b> <a class=\"tocSkip\"></a>\n",
    "\n",
    "Nota. Se puede mejorar.\n",
    "</div>\n",
    "\n",
    "<div class=\"alert alert-block alert-danger\">\n",
    "<b>Comentario del revisor</b> <a class=\"tocSkip\"></a>\n",
    "\n",
    "Necesitas corregirlo. Este bloque indica que se requiere una correción. El trabajo no se acepta si tiene estos bloques.\n",
    "</div>\n",
    "\n",
    "Puedes responder a mis comentarios usando estos bloques:\n",
    "\n",
    "<div class=\"alert alert-block alert-info\">\n",
    "<b>Respuesta del estudiante.</b> <a class=\"tocSkip\"></a>\n",
    "</div>"
   ]
  },
  {
   "cell_type": "markdown",
   "metadata": {},
   "source": [
    "## Descripción del proyecto"
   ]
  },
  {
   "cell_type": "markdown",
   "metadata": {},
   "source": [
    "Los clientes de Beta Bank se están yendo, cada mes, poco a poco. Los banqueros descubrieron que es más barato salvar a los clientes existentes que atraer nuevos.\n",
    "\n",
    "Necesitamos predecir si un cliente dejará el banco pronto. Tú tienes los datos sobre el comportamiento pasado de los clientes y la terminación de contratos con el banco.\n",
    "\n",
    "Crea un modelo con el máximo valor F1 posible. Para aprobar la revisión, necesitas un valor F1 de al menos 0.59. Verifica F1 para el conjunto de prueba. \n",
    "\n",
    "Además, debes medir la métrica AUC-ROC y compararla con el valor F1."
   ]
  },
  {
   "cell_type": "markdown",
   "metadata": {},
   "source": [
    "### Descripción de datos\n",
    "\n",
    "Características\n",
    "\n",
    "* RowNumber: índice de cadena de datos\n",
    "* CustomerId: identificador de cliente único\n",
    "* Surname: apellido\n",
    "* CreditScore: valor de crédito\n",
    "* Geography: país de residencia\n",
    "* Gender: sexo\n",
    "* Age: edad\n",
    "* Tenure: período durante el cual ha madurado el depósito a plazo fijo de un cliente (años)\n",
    "* Balance: saldo de la cuenta\n",
    "* NumOfProducts: número de productos bancarios utilizados por el cliente\n",
    "* HasCrCard: el cliente tiene una tarjeta de crédito (1 - sí; 0 - no)\n",
    "* IsActiveMember: actividad del cliente (1 - sí; 0 - no)\n",
    "* EstimatedSalary: salario estimado\n",
    "\n",
    "Objetivo\n",
    "\n",
    "* Exited: El cliente se ha ido (1 - sí; 0 - no)"
   ]
  },
  {
   "cell_type": "markdown",
   "metadata": {
    "vscode": {
     "languageId": "plaintext"
    }
   },
   "source": [
    "## Importar librerias"
   ]
  },
  {
   "cell_type": "code",
   "execution_count": 133,
   "metadata": {},
   "outputs": [],
   "source": [
    "# Importar librerias\n",
    "import pandas as pd\n",
    "import numpy as np\n",
    "import matplotlib.pyplot as plt\n",
    "from sklearn.tree import DecisionTreeClassifier\n",
    "from sklearn.tree import DecisionTreeRegressor\n",
    "from sklearn.ensemble import RandomForestClassifier\n",
    "from sklearn.ensemble import RandomForestRegressor\n",
    "from sklearn.linear_model import LogisticRegression\n",
    "from sklearn.metrics import accuracy_score\n",
    "from sklearn.metrics import recall_score\n",
    "from sklearn.metrics import precision_score\n",
    "from sklearn.metrics import f1_score\n",
    "from sklearn.model_selection import train_test_split\n",
    "from sklearn.preprocessing import StandardScaler\n",
    "from sklearn.metrics import confusion_matrix\n",
    "from sklearn.preprocessing import OrdinalEncoder\n",
    "from sklearn.utils import shuffle\n",
    "from sklearn.metrics import precision_recall_curve\n",
    "from sklearn.metrics import roc_curve\n",
    "from sklearn.metrics import roc_auc_score\n",
    "#from sklearn.metrics import r2_score\n",
    "#from sklearn.metrics import mean_absolute_error"
   ]
  },
  {
   "cell_type": "markdown",
   "metadata": {},
   "source": [
    "## Importar base de datos para análisis\n"
   ]
  },
  {
   "cell_type": "code",
   "execution_count": 134,
   "metadata": {},
   "outputs": [],
   "source": [
    "# ",
    "# Importar dataset\n",
    "\n",
    "df = pd.read_csv('/datasets/Churn.csv')"
   ]
  },
  {
   "cell_type": "markdown",
   "metadata": {},
   "source": [
    "<div class=\"alert alert-block alert-success\">\n",
    "<b>Comentario del revisor</b> <a class=\"tocSkip\"></a>\n",
    "\n",
    "Muy bien, usaste una celda para importar las librerías y otra para leer los datos.\n",
    "</div>"
   ]
  },
  {
   "cell_type": "markdown",
   "metadata": {},
   "source": []
  },
  {
   "cell_type": "markdown",
   "metadata": {},
   "source": [
    "## Explorar dataset y diagnóstico"
   ]
  },
  {
   "cell_type": "code",
   "execution_count": 135,
   "metadata": {},
   "outputs": [
    {
     "name": "stdout",
     "output_type": "stream",
     "text": [
      "(10000, 14)\n",
      "\n",
      "*****************************************************************\n",
      "   RowNumber  CustomerId   Surname  CreditScore Geography  Gender  Age  \\\n",
      "0          1    15634602  Hargrave          619    France  Female   42   \n",
      "1          2    15647311      Hill          608     Spain  Female   41   \n",
      "2          3    15619304      Onio          502    France  Female   42   \n",
      "3          4    15701354      Boni          699    France  Female   39   \n",
      "4          5    15737888  Mitchell          850     Spain  Female   43   \n",
      "\n",
      "   Tenure    Balance  NumOfProducts  HasCrCard  IsActiveMember  \\\n",
      "0     2.0       0.00              1          1               1   \n",
      "1     1.0   83807.86              1          0               1   \n",
      "2     8.0  159660.80              3          1               0   \n",
      "3     1.0       0.00              2          0               0   \n",
      "4     2.0  125510.82              1          1               1   \n",
      "\n",
      "   EstimatedSalary  Exited  \n",
      "0        101348.88       1  \n",
      "1        112542.58       0  \n",
      "2        113931.57       1  \n",
      "3         93826.63       0  \n",
      "4         79084.10       0  \n",
      "\n",
      "*****************************************************************\n",
      "<class 'pandas.core.frame.DataFrame'>\n",
      "RangeIndex: 10000 entries, 0 to 9999\n",
      "Data columns (total 14 columns):\n",
      " #   Column           Non-Null Count  Dtype  \n",
      "---  ------           --------------  -----  \n",
      " 0   RowNumber        10000 non-null  int64  \n",
      " 1   CustomerId       10000 non-null  int64  \n",
      " 2   Surname          10000 non-null  object \n",
      " 3   CreditScore      10000 non-null  int64  \n",
      " 4   Geography        10000 non-null  object \n",
      " 5   Gender           10000 non-null  object \n",
      " 6   Age              10000 non-null  int64  \n",
      " 7   Tenure           9091 non-null   float64\n",
      " 8   Balance          10000 non-null  float64\n",
      " 9   NumOfProducts    10000 non-null  int64  \n",
      " 10  HasCrCard        10000 non-null  int64  \n",
      " 11  IsActiveMember   10000 non-null  int64  \n",
      " 12  EstimatedSalary  10000 non-null  float64\n",
      " 13  Exited           10000 non-null  int64  \n",
      "dtypes: float64(3), int64(8), object(3)\n",
      "memory usage: 1.1+ MB\n",
      "None\n",
      "\n",
      "*****************************************************************\n",
      "         RowNumber    CustomerId   CreditScore           Age       Tenure  \\\n",
      "count  10000.00000  1.000000e+04  10000.000000  10000.000000  9091.000000   \n",
      "mean    5000.50000  1.569094e+07    650.528800     38.921800     4.997690   \n",
      "std     2886.89568  7.193619e+04     96.653299     10.487806     2.894723   \n",
      "min        1.00000  1.556570e+07    350.000000     18.000000     0.000000   \n",
      "25%     2500.75000  1.562853e+07    584.000000     32.000000     2.000000   \n",
      "50%     5000.50000  1.569074e+07    652.000000     37.000000     5.000000   \n",
      "75%     7500.25000  1.575323e+07    718.000000     44.000000     7.000000   \n",
      "max    10000.00000  1.581569e+07    850.000000     92.000000    10.000000   \n",
      "\n",
      "             Balance  NumOfProducts    HasCrCard  IsActiveMember  \\\n",
      "count   10000.000000   10000.000000  10000.00000    10000.000000   \n",
      "mean    76485.889288       1.530200      0.70550        0.515100   \n",
      "std     62397.405202       0.581654      0.45584        0.499797   \n",
      "min         0.000000       1.000000      0.00000        0.000000   \n",
      "25%         0.000000       1.000000      0.00000        0.000000   \n",
      "50%     97198.540000       1.000000      1.00000        1.000000   \n",
      "75%    127644.240000       2.000000      1.00000        1.000000   \n",
      "max    250898.090000       4.000000      1.00000        1.000000   \n",
      "\n",
      "       EstimatedSalary        Exited  \n",
      "count     10000.000000  10000.000000  \n",
      "mean     100090.239881      0.203700  \n",
      "std       57510.492818      0.402769  \n",
      "min          11.580000      0.000000  \n",
      "25%       51002.110000      0.000000  \n",
      "50%      100193.915000      0.000000  \n",
      "75%      149388.247500      0.000000  \n",
      "max      199992.480000      1.000000  \n"
     ]
    }
   ],
   "source": [
    "# Explorar dataset\n",
    "print(df.shape)\n",
    "print()\n",
    "print(\"*****************************************************************\")\n",
    "print(df.head())\n",
    "print()\n",
    "print(\"*****************************************************************\")\n",
    "print(df.info())\n",
    "print()\n",
    "print(\"*****************************************************************\")\n",
    "print(df.describe())\n"
   ]
  },
  {
   "cell_type": "markdown",
   "metadata": {},
   "source": [
    "<div class=\"alert alert-block alert-success\">\n",
    "<b>Comentario del revisor</b> <a class=\"tocSkip\"></a>\n",
    "\n",
    "Buen uso de los métodos de pandas para explorar los datos.\n",
    "</div>"
   ]
  },
  {
   "cell_type": "markdown",
   "metadata": {},
   "source": [
    "Encontramos que existen valores ausentes en la columna tenure, y revisando los datos vamos a sustituirlos más adelante por la mediana. Sobre los datatype, considero que están correctos y no es necesario modificarlos. También vemos que las columnas RowNumber, CustomerId, Surname no aportarían datos al análisis del modelo, es mas, meterían más ruido, entonces las quitaremos."
   ]
  },
  {
   "cell_type": "markdown",
   "metadata": {},
   "source": [
    "## Preparación de datos"
   ]
  },
  {
   "cell_type": "markdown",
   "metadata": {},
   "source": [
    "Voy a realizar el análisis de la información utilizando dos técnicas de codificación: codificación de etiquetas y codigicación One-hot. Para ello, voy a crear dos dataframes diferentes, uno para analizar cada una de las técnicas. El primero se llamara df_encoder que servirá para probar la primer técnica, y el segundo, df_test, que servirá para la segunda técnica.\n"
   ]
  },
  {
   "cell_type": "markdown",
   "metadata": {},
   "source": [
    "### Técnica codificación de etiquetas"
   ]
  },
  {
   "cell_type": "code",
   "execution_count": 136,
   "metadata": {},
   "outputs": [],
   "source": [
    "# Descargar la base de datos en un dataframe\n",
    "df_encoder = pd.read_csv('/datasets/Churn.csv')\n",
    "\n",
    "# Sustituir los valores ausentes por la mediana\n",
    "df_encoder['Tenure'] = df_encoder['Tenure'].fillna(df_encoder['Tenure'].median())\n",
    "\n",
    "# Eliminar las columnas que no se van a utilizar\n",
    "df_encoder = df_encoder.drop(['RowNumber','CustomerId','Surname'], axis=1)"
   ]
  },
  {
   "cell_type": "markdown",
   "metadata": {},
   "source": [
    "<div class=\"alert alert-block alert-warning\">\n",
    "<b>Comentario del revisor</b> <a class=\"tocSkip\"></a>\n",
    "\n",
    "Para crear otro data frame que contiene los mismos datos que un dataframe que ya tienes no es necesario volver a leer de la misma tabla puedes crear una copia:\n",
    "    \n",
    "```\n",
    "df_encoder = df.copy()    \n",
    "```\n",
    "</div>"
   ]
  },
  {
   "cell_type": "code",
   "execution_count": 137,
   "metadata": {},
   "outputs": [],
   "source": [
    "# Estandarizar los datos numéricos\n",
    "numeric = [\"CreditScore\",\"Age\", \"Tenure\", \"Balance\", \"EstimatedSalary\"]\n",
    "\n",
    "scaler = StandardScaler()\n",
    "scaler.fit(df_encoder[numeric])\n",
    "df_encoder[numeric] = scaler.transform(df_encoder[numeric])\n"
   ]
  },
  {
   "cell_type": "markdown",
   "metadata": {},
   "source": [
    "<div class=\"alert alert-block alert-success\">\n",
    "<b>Comentario del revisor</b> <a class=\"tocSkip\"></a>\n",
    "\n",
    "Muy bien, se escalaron correctamente los datos.\n",
    "</div>"
   ]
  },
  {
   "cell_type": "code",
   "execution_count": 138,
   "metadata": {},
   "outputs": [
    {
     "name": "stdout",
     "output_type": "stream",
     "text": [
      "(6000, 10)\n"
     ]
    }
   ],
   "source": [
    "# Aplicar la técnica de codificación de etiquetas\n",
    "encoder = OrdinalEncoder()\n",
    "data = pd.DataFrame(encoder.fit_transform(df_encoder), columns=df_encoder.columns)\n",
    "\n",
    "# Separar el dataset en entrenamiento, validación y prueba\n",
    "df_train, df_temp = train_test_split(data, test_size=0.4, random_state=12345)\n",
    "df_valid, df_test = train_test_split(df_temp, test_size=0.5, random_state=12345)\n",
    "\n",
    "\n",
    "# Separar el dataset en features y target\n",
    "target_train = df_train['Exited']\n",
    "features_train = df_train.drop('Exited', axis=1)\n",
    "target_valid = df_valid['Exited']\n",
    "features_valid = df_valid.drop('Exited', axis=1)\n",
    "target_test = df_test['Exited']\n",
    "features_test = df_test.drop('Exited', axis=1)\n",
    "\n",
    "print(features_train.shape)\n"
   ]
  },
  {
   "cell_type": "markdown",
   "metadata": {},
   "source": [
    "<div class=\"alert alert-block alert-success\">\n",
    "<b>Comentario del revisor</b> <a class=\"tocSkip\"></a>\n",
    "\n",
    "Se dividieron correctamente los datos en entrenamiento y prueba.\n",
    "</div>"
   ]
  },
  {
   "cell_type": "code",
   "execution_count": 139,
   "metadata": {},
   "outputs": [
    {
     "name": "stdout",
     "output_type": "stream",
     "text": [
      "0.7945\n"
     ]
    }
   ],
   "source": [
    "# Usar el modelo de DecisionTreeClassifier y entrenar el modelo\n",
    "model = DecisionTreeClassifier(random_state=12345)\n",
    "model.fit(features_train, target_train)\n",
    "predicted_test = model.predict(features_test)\n",
    "\n",
    "accuracy_test = accuracy_score(target_test, predicted_test)\n",
    "\n",
    "print(accuracy_test)"
   ]
  },
  {
   "cell_type": "markdown",
   "metadata": {},
   "source": [
    "<div class=\"alert alert-block alert-success\">\n",
    "<b>Comentario del revisor</b> <a class=\"tocSkip\"></a>\n",
    "\n",
    "Entrenaste correctamente usando árboles de decisión.\n",
    "</div>"
   ]
  },
  {
   "cell_type": "code",
   "execution_count": 140,
   "metadata": {},
   "outputs": [
    {
     "name": "stdout",
     "output_type": "stream",
     "text": [
      "Exited\n",
      "0    0.7963\n",
      "1    0.2037\n",
      "Name: proportion, dtype: float64\n"
     ]
    },
    {
     "data": {
      "text/plain": [
       "<Axes: xlabel='Exited'>"
      ]
     },
     "execution_count": 140,
     "metadata": {},
     "output_type": "execute_result"
    },
    {
     "data": {
      "image/png": "[encoded data removed]",
      "text/plain": [
       "<Figure size 640x480 with 1 Axes>"
      ]
     },
     "metadata": {},
     "output_type": "display_data"
    }
   ],
   "source": [
    "# Revisar como esta balanceado el dataset\n",
    "class_frequency = df_encoder['Exited'].value_counts(normalize=True)\n",
    "print(class_frequency)\n",
    "class_frequency.plot(kind=\"bar\")"
   ]
  },
  {
   "cell_type": "markdown",
   "metadata": {},
   "source": [
    "<div class=\"alert alert-block alert-success\">\n",
    "<b>Comentario del revisor</b> <a class=\"tocSkip\"></a>\n",
    "\n",
    "Muy bien, la gráfica muestra correctamente como es el desbalance de datos.\n",
    "</div>"
   ]
  },
  {
   "cell_type": "code",
   "execution_count": 141,
   "metadata": {},
   "outputs": [
    {
     "name": "stdout",
     "output_type": "stream",
     "text": [
      "[[1391  186]\n",
      " [ 225  198]]\n"
     ]
    }
   ],
   "source": [
    "# Aplicar la matriz de confusión\n",
    "conf_matrix = confusion_matrix(target_test, predicted_test)\n",
    "print(conf_matrix)"
   ]
  },
  {
   "cell_type": "code",
   "execution_count": 142,
   "metadata": {},
   "outputs": [
    {
     "name": "stdout",
     "output_type": "stream",
     "text": [
      "0.46808510638297873\n"
     ]
    }
   ],
   "source": [
    "# Calcular el recall\n",
    "recall = recall_score(target_test,predicted_test)\n",
    "print(recall)"
   ]
  },
  {
   "cell_type": "code",
   "execution_count": 143,
   "metadata": {},
   "outputs": [
    {
     "name": "stdout",
     "output_type": "stream",
     "text": [
      "0.515625\n"
     ]
    }
   ],
   "source": [
    "# Calcular la precisión\n",
    "precision = precision_score(target_test, predicted_test)\n",
    "print(precision)"
   ]
  },
  {
   "cell_type": "code",
   "execution_count": 144,
   "metadata": {},
   "outputs": [
    {
     "name": "stdout",
     "output_type": "stream",
     "text": [
      "0.49070631970260226\n"
     ]
    }
   ],
   "source": [
    "# Calcular el f1\n",
    "f1 = f1_score(target_test, predicted_test)\n",
    "print(f1)"
   ]
  },
  {
   "cell_type": "markdown",
   "metadata": {},
   "source": [
    "Al revisar la información utilizando la técnica de codificación de etiquetas obtuve un F1 de 0.4907, el cual esta muy lejos del 0.59 que buscamos. También, pude encontrar que hay un gran desequilibrio de clases, y esta técnica no es buena para cuanto se tiene esa situación"
   ]
  },
  {
   "cell_type": "markdown",
   "metadata": {},
   "source": [
    "<div class=\"alert alert-block alert-success\">\n",
    "<b>Comentario del revisor</b> <a class=\"tocSkip\"></a>\n",
    "\n",
    "Buen comentario aún se puede mejorar bastante al modelo.\n",
    "</div>"
   ]
  },
  {
   "cell_type": "markdown",
   "metadata": {},
   "source": [
    "### Técnica codificación One-hot"
   ]
  },
  {
   "cell_type": "code",
   "execution_count": 145,
   "metadata": {},
   "outputs": [],
   "source": [
    "# Descargar la base de datos en un dataframe\n",
    "df_test = pd.read_csv('/datasets/Churn.csv')\n",
    "\n",
    "# Sustituir los valores ausentes por la mediana\n",
    "df_test['Tenure'] = df_test['Tenure'].fillna(df_test['Tenure'].median())\n",
    "\n",
    "# Eliminar las columnas que no se van a utilizar\n",
    "df_test = df_test.drop(['RowNumber','CustomerId','Surname'], axis=1) # 'Geography','CreditScore'"
   ]
  },
  {
   "cell_type": "code",
   "execution_count": 146,
   "metadata": {},
   "outputs": [],
   "source": [
    "# Estandarizar los datos numéricos\n",
    "numeric = [\"CreditScore\",\"Age\", \"Tenure\", \"Balance\", \"EstimatedSalary\"]\n",
    "\n",
    "scaler = StandardScaler()\n",
    "scaler.fit(df_test[numeric])\n",
    "df_test[numeric] = scaler.transform(df_test[numeric])"
   ]
  },
  {
   "cell_type": "markdown",
   "metadata": {},
   "source": [
    "<div class=\"alert alert-block alert-warning\">\n",
    "<b>Comentario del revisor</b> <a class=\"tocSkip\"></a>\n",
    "\n",
    "Con el uso del método copy, aquí también te pudiste ahorrar estos bloques de celdas y crear otro data frame basado en el que tenías arriba.\n",
    "</div>"
   ]
  },
  {
   "cell_type": "code",
   "execution_count": 147,
   "metadata": {},
   "outputs": [
    {
     "name": "stdout",
     "output_type": "stream",
     "text": [
      "(6000, 11)\n"
     ]
    }
   ],
   "source": [
    "# Aplicar la técnica de codificación One-hot\n",
    "data_ohe = pd.get_dummies(df_test, drop_first=True)\n",
    "\n",
    "# Separar el dataset en entrenamiento, validación y prueba\n",
    "df_train, df_temp = train_test_split(data_ohe, test_size=0.4, random_state=12345)\n",
    "df_valid, df_test = train_test_split(df_temp, test_size=0.5, random_state=12345)\n",
    "\n",
    "# Separar el dataset en features y target\n",
    "target_train = df_train['Exited']\n",
    "features_train = df_train.drop('Exited', axis=1)\n",
    "target_valid = df_valid['Exited']\n",
    "features_valid = df_valid.drop('Exited', axis=1)\n",
    "target_test = df_test['Exited']\n",
    "features_test = df_test.drop('Exited', axis=1)\n",
    "\n",
    "print(features_train.shape)"
   ]
  },
  {
   "cell_type": "code",
   "execution_count": 148,
   "metadata": {},
   "outputs": [
    {
     "name": "stdout",
     "output_type": "stream",
     "text": [
      "F1: 0.4775086505190312\n",
      "F1: 0.4888507718696398\n"
     ]
    }
   ],
   "source": [
    "# Usar el modelo LogisticRegression, entrenar el modelo y probarlo con el dataset de validación y prueba\n",
    "\n",
    "model = LogisticRegression(random_state=12345, solver='liblinear', class_weight = 'balanced')\n",
    "model.fit(features_train, target_train)\n",
    "predicted_valid = model.predict(features_valid)\n",
    "predicted_test = model.predict(features_test)\n",
    "print('F1:', f1_score(target_test, predicted_test))\n",
    "print('F1:', f1_score(target_valid, predicted_valid))"
   ]
  },
  {
   "cell_type": "markdown",
   "metadata": {},
   "source": [
    "El score F1 sigue estando lejos de nuestro objetivo de por lo menos 0.59, entonces haré un balance de clases, primero un sobremuestreo y luego un submuestreo"
   ]
  },
  {
   "cell_type": "code",
   "execution_count": 149,
   "metadata": {},
   "outputs": [
    {
     "name": "stdout",
     "output_type": "stream",
     "text": [
      "(10784,)\n",
      "Exited\n",
      "1    0.554525\n",
      "0    0.445475\n",
      "Name: proportion, dtype: float64\n",
      "Exited\n",
      "1    5980\n",
      "0    4804\n",
      "Name: count, dtype: int64\n"
     ]
    }
   ],
   "source": [
    "# Aplicar sobremuestreo para balancear el dataset\n",
    "def upsample(features, target, repeat):\n",
    "    features_zeros = features[target == 0]\n",
    "    features_ones = features[target == 1]\n",
    "    target_zeros = target[target == 0]\n",
    "    target_ones = target[target == 1]\n",
    "\n",
    "    features_upsampled = pd.concat([features_zeros] + [features_ones] * repeat)\n",
    "    target_upsampled = pd.concat([target_zeros] + [target_ones] * repeat)\n",
    "\n",
    "    features_upsampled, target_upsampled = shuffle(\n",
    "        features_upsampled, target_upsampled, random_state=12345\n",
    "    )\n",
    "\n",
    "    return features_upsampled, target_upsampled\n",
    "\n",
    "\n",
    "features_upsampled, target_upsampled = upsample(\n",
    "    features_train, target_train, 5\n",
    ")\n",
    "\n",
    "\n",
    "print(target_upsampled.shape)\n",
    "print(target_upsampled.value_counts(normalize=True))\n",
    "print(target_upsampled.value_counts())\n",
    "\n",
    "\n"
   ]
  },
  {
   "cell_type": "code",
   "execution_count": 150,
   "metadata": {},
   "outputs": [
    {
     "name": "stdout",
     "output_type": "stream",
     "text": [
      "F1: 0.4834996162701458\n",
      "F1: 0.4847094801223242\n"
     ]
    }
   ],
   "source": [
    "# Usar el modelo LogisticRegression, entrenar el modelo y probarlo con el dataset de validación y prueba\n",
    "model = LogisticRegression(random_state=12345, solver='liblinear')\n",
    "model.fit(features_upsampled, target_upsampled)\n",
    "predicted_test = model.predict(features_test)\n",
    "predicted_valid = model.predict(features_valid)\n",
    "\n",
    "print('F1:', f1_score(target_test, predicted_test))\n",
    "print('F1:', f1_score(target_valid, predicted_valid))"
   ]
  },
  {
   "cell_type": "markdown",
   "metadata": {},
   "source": [
    "El score F1 en el modelo de regresión logística realmente no tuvo una mejora significativa con el sobremuestreo"
   ]
  },
  {
   "cell_type": "code",
   "execution_count": 151,
   "metadata": {},
   "outputs": [
    {
     "name": "stdout",
     "output_type": "stream",
     "text": [
      "(2397,)\n",
      "Exited\n",
      "0    0.501043\n",
      "1    0.498957\n",
      "Name: proportion, dtype: float64\n",
      "Exited\n",
      "0    1201\n",
      "1    1196\n",
      "Name: count, dtype: int64\n"
     ]
    }
   ],
   "source": [
    "# Aplicar submuestreo para balancear el dataset\n",
    "def downsample(features, target, fraction):\n",
    "    features_zeros = features[target == 0]\n",
    "    features_ones = features[target == 1]\n",
    "    target_zeros = target[target == 0]\n",
    "    target_ones = target[target == 1]\n",
    "\n",
    "    features_downsampled = pd.concat(\n",
    "        [features_zeros.sample(frac=fraction, random_state=12345)]\n",
    "        + [features_ones]\n",
    "    )\n",
    "    target_downsampled = pd.concat(\n",
    "        [target_zeros.sample(frac=fraction, random_state=12345)]\n",
    "        + [target_ones]\n",
    "    )\n",
    "\n",
    "    features_downsampled, target_downsampled = shuffle(\n",
    "        features_downsampled, target_downsampled, random_state=12345\n",
    "    )\n",
    "\n",
    "    return features_downsampled, target_downsampled\n",
    "\n",
    "\n",
    "features_downsampled, target_downsampled = downsample(\n",
    "    features_train, target_train, 0.25\n",
    ")\n",
    "\n",
    "print(target_downsampled.shape)\n",
    "print(target_downsampled.value_counts(normalize=True))\n",
    "print(target_downsampled.value_counts())"
   ]
  },
  {
   "cell_type": "code",
   "execution_count": 152,
   "metadata": {},
   "outputs": [
    {
     "name": "stdout",
     "output_type": "stream",
     "text": [
      "F1: 0.48417450812660395\n",
      "F1: 0.48406546080964685\n"
     ]
    }
   ],
   "source": [
    "# Usar el modelo LogisticRegression, entrenar el modelo y probarlo con el dataset de validación y prueba\n",
    "model = LogisticRegression(random_state=12345, solver='liblinear')\n",
    "model.fit(features_downsampled, target_downsampled)\n",
    "\n",
    "predicted_test = model.predict(features_test)\n",
    "predicted_valid = model.predict(features_valid)\n",
    "\n",
    "print('F1:', f1_score(target_test, predicted_test))\n",
    "print('F1:', f1_score(target_valid, predicted_valid))"
   ]
  },
  {
   "cell_type": "markdown",
   "metadata": {},
   "source": [
    "<div class=\"alert alert-block alert-success\">\n",
    "<b>Comentario del revisor</b> <a class=\"tocSkip\"></a>\n",
    "\n",
    "Buen uso del up y down sample.\n",
    "</div>"
   ]
  },
  {
   "cell_type": "markdown",
   "metadata": {},
   "source": [
    "El score F1 en el modelo de regresión logistica realmente no tuvo una mejor significativa con el submuestreo"
   ]
  },
  {
   "cell_type": "markdown",
   "metadata": {},
   "source": [
    "Ahora vamos usar el Decision Tree Classifier (modelo de arbol) para ver si hacemos que el score F1 aumenta"
   ]
  },
  {
   "cell_type": "code",
   "execution_count": 153,
   "metadata": {},
   "outputs": [
    {
     "name": "stdout",
     "output_type": "stream",
     "text": [
      "DecisionTreeClassifier\n",
      "El mejor max_depth = 5 con una exactitud de: 0.8105\n",
      "El mejor F1 score: 0.5963791267305644\n",
      "\n"
     ]
    }
   ],
   "source": [
    "# Modelo DecisionTreeClassifier con el dataset de validación y sobremuestreo\n",
    "best_score_dtc = 0\n",
    "best_f1 = 0\n",
    "best_depth = 0\n",
    "for depth in range(1,10):\n",
    "    model_dtc = DecisionTreeClassifier(random_state=12345, max_depth=depth,class_weight='balanced' )\n",
    "    model_dtc.fit(features_upsampled,target_upsampled)\n",
    "    predictions_valid = model_dtc.predict(features_valid)\n",
    "    score = accuracy_score(target_valid,predictions_valid)\n",
    "    f1 = f1_score(target_valid, predictions_valid) # calculate the F1 score\n",
    "    if score > best_score_dtc:\n",
    "        best_score_dtc = score\n",
    "        best_f1 = f1 # store the best F1 score\n",
    "        best_depth = depth\n",
    "print(\"DecisionTreeClassifier\")\n",
    "print(\"El mejor max_depth =\", best_depth, \"con una exactitud de:\", best_score_dtc)\n",
    "print(\"El mejor F1 score:\", best_f1)\n",
    "print()\n",
    "\n"
   ]
  },
  {
   "cell_type": "markdown",
   "metadata": {},
   "source": [
    "El modelo de arbol con el conjunto de validación y el sobremuestreo ya alcancó el score F1 que estabamos buscando, ahora vamos a probarlo pero con el conjunto de prueba"
   ]
  },
  {
   "cell_type": "code",
   "execution_count": 154,
   "metadata": {},
   "outputs": [
    {
     "name": "stdout",
     "output_type": "stream",
     "text": [
      "DecisionTreeClassifier\n",
      "El mejor max_depth = 5 con una exactitud de: 0.798\n",
      "El mejor F1 score: 0.5809128630705395\n",
      "\n"
     ]
    }
   ],
   "source": [
    "# Modelo DecisionTreeClassifier con el dataset de prueba y sobremuestreo\n",
    "best_score_dtc = 0\n",
    "best_f1 = 0\n",
    "best_depth = 0\n",
    "for depth in range(1,10):\n",
    "    model_dtc = DecisionTreeClassifier(random_state=12345, max_depth=depth,class_weight='balanced')\n",
    "    model_dtc.fit(features_upsampled,target_upsampled)\n",
    "    predictions_test = model_dtc.predict(features_test)\n",
    "    score = accuracy_score(target_test,predictions_test)\n",
    "    f1 = f1_score(target_test, predictions_test) # calculate the F1 score\n",
    "    if score > best_score_dtc:\n",
    "        best_score_dtc = score\n",
    "        best_f1 = f1 # store the best F1 score\n",
    "        best_depth = depth\n",
    "print(\"DecisionTreeClassifier\")\n",
    "print(\"El mejor max_depth =\", best_depth, \"con una exactitud de:\", best_score_dtc)\n",
    "print(\"El mejor F1 score:\", best_f1)\n",
    "print()"
   ]
  },
  {
   "cell_type": "markdown",
   "metadata": {},
   "source": [
    "El score F1 con el conjunto de validación bajo a 0.5809, entonces con el modelo de árbol, usando la técnica de sobremuestreo, no llegamos a nuestro valor objetivo que es de al menos 0.59"
   ]
  },
  {
   "cell_type": "markdown",
   "metadata": {},
   "source": [
    "Vamos a probar ahora el mismo modelo de arbol pero con submuestreo"
   ]
  },
  {
   "cell_type": "code",
   "execution_count": 155,
   "metadata": {},
   "outputs": [
    {
     "name": "stdout",
     "output_type": "stream",
     "text": [
      "DecisionTreeClassifier\n",
      "El mejor max_depth = 5 con una exactitud de: 0.8\n",
      "El mejor F1 score: 0.5943204868154158\n",
      "\n"
     ]
    }
   ],
   "source": [
    "# Modelo DecisionTreeClassifier con el dataset de validación y submuestreo\n",
    "best_score_dtc = 0\n",
    "best_f1 = 0\n",
    "best_depth = 0\n",
    "for depth in range(1,10):\n",
    "    model_dtc = DecisionTreeClassifier(random_state=12345, max_depth=depth,class_weight='balanced' )\n",
    "    model_dtc.fit(features_downsampled,target_downsampled)\n",
    "    predictions_valid = model_dtc.predict(features_valid)\n",
    "    score = accuracy_score(target_valid,predictions_valid)\n",
    "    f1 = f1_score(target_valid, predictions_valid) # calculate the F1 score\n",
    "    if score > best_score_dtc:\n",
    "        best_score_dtc = score\n",
    "        best_f1 = f1 # store the best F1 score\n",
    "        best_depth = depth\n",
    "print(\"DecisionTreeClassifier\")\n",
    "print(\"El mejor max_depth =\", best_depth, \"con una exactitud de:\", best_score_dtc)\n",
    "print(\"El mejor F1 score:\", best_f1)\n",
    "print()\n",
    "\n"
   ]
  },
  {
   "cell_type": "markdown",
   "metadata": {},
   "source": [
    "El modelo de arbol con el conjunto de validación y el submuestreo ya alcancó el score F1 que estabamos buscando, ahora vamos a probarlo pero con el conjunto de prueba"
   ]
  },
  {
   "cell_type": "code",
   "execution_count": 156,
   "metadata": {},
   "outputs": [
    {
     "name": "stdout",
     "output_type": "stream",
     "text": [
      "DecisionTreeClassifier\n",
      "El mejor max_depth = 5 con una exactitud de: 0.811\n",
      "El mejor F1 score: 0.608695652173913\n",
      "\n"
     ]
    }
   ],
   "source": [
    "# Modelo DecisionTreeClassifier con el dataset de prueba y submuestreo\n",
    "best_score_dtc = 0\n",
    "best_f1 = 0\n",
    "best_depth = 0\n",
    "for depth in range(1,10):\n",
    "    model_dtc = DecisionTreeClassifier(random_state=12345, max_depth=depth,class_weight='balanced')\n",
    "    model_dtc.fit(features_downsampled,target_downsampled)\n",
    "    predictions_test = model_dtc.predict(features_test)\n",
    "    score = accuracy_score(target_test,predictions_test)\n",
    "    f1 = f1_score(target_test, predictions_test) # calculate the F1 score\n",
    "    if score > best_score_dtc:\n",
    "        best_score_dtc = score\n",
    "        best_f1 = f1 # store the best F1 score\n",
    "        best_depth = depth\n",
    "print(\"DecisionTreeClassifier\")\n",
    "print(\"El mejor max_depth =\", best_depth, \"con una exactitud de:\", best_score_dtc)\n",
    "print(\"El mejor F1 score:\", best_f1)\n",
    "print()"
   ]
  },
  {
   "cell_type": "markdown",
   "metadata": {},
   "source": [
    "Finalmente, lo logramos, ya tenemos un score F01 igual o mayor a 0.59 con el conjunto de prueba."
   ]
  },
  {
   "cell_type": "markdown",
   "metadata": {},
   "source": [
    "<div class=\"alert alert-block alert-success\">\n",
    "<b>Comentario del revisor</b> <a class=\"tocSkip\"></a>\n",
    "\n",
    "¡Muy bien! Usaste un ciclo for para encontrar el mejor modelo de Decision Tree iterando sobre la profundidad, esto ayuda a explorar varias configuraciones de hiperparámetros.\n",
    "</div>"
   ]
  },
  {
   "cell_type": "markdown",
   "metadata": {},
   "source": [
    "## Curva PR y Curva AUC-ROC"
   ]
  },
  {
   "cell_type": "markdown",
   "metadata": {},
   "source": [
    "Vamos a calcular la curva PR para ver el rendimiento del modelo en términos de precisión y recall"
   ]
  },
  {
   "cell_type": "code",
   "execution_count": 157,
   "metadata": {},
   "outputs": [
    {
     "data": {
      "image/png": "[encoded data removed]",
      "text/plain": [
       "<Figure size 600x600 with 1 Axes>"
      ]
     },
     "metadata": {},
     "output_type": "display_data"
    }
   ],
   "source": [
    "# Curva PR\n",
    "model_dtc = DecisionTreeClassifier(random_state=12345, max_depth=5,class_weight='balanced')\n",
    "model_dtc.fit(features_downsampled,target_downsampled)\n",
    "\n",
    "probabilities_test = model_dtc.predict_proba(features_test)\n",
    "precision, recall, thresholds = precision_recall_curve(\n",
    "    target_test, probabilities_test[:, 1]\n",
    ")\n",
    "\n",
    "plt.figure(figsize=(6, 6))\n",
    "plt.step(recall, precision, where='post')\n",
    "plt.xlabel('Recall')\n",
    "plt.ylabel('Precision')\n",
    "plt.ylim([0.0, 1.05])\n",
    "plt.xlim([0.0, 1.0])\n",
    "plt.title('Precision-Recall Curve')\n",
    "plt.show()"
   ]
  },
  {
   "cell_type": "markdown",
   "metadata": {},
   "source": [
    "Vamos a calular la Curva ROC"
   ]
  },
  {
   "cell_type": "code",
   "execution_count": 158,
   "metadata": {},
   "outputs": [
    {
     "data": {
      "text/plain": [
       "Text(0.5, 1.0, 'Curva ROC')"
      ]
     },
     "execution_count": 158,
     "metadata": {},
     "output_type": "execute_result"
    },
    {
     "data": {
      "image/png": "[encoded data removed]",
      "text/plain": [
       "<Figure size 640x480 with 1 Axes>"
      ]
     },
     "metadata": {},
     "output_type": "display_data"
    }
   ],
   "source": [
    "# Curva ROC\n",
    "probabilities_test = model_dtc.predict_proba(features_test)\n",
    "probabilities_one_test = probabilities_test[:, 1]\n",
    "\n",
    "fpr, tpr, thresholds = roc_curve(target_test, probabilities_one_test) # < escribe el código aquí >\n",
    "\n",
    "plt.figure()\n",
    "\n",
    "# < traza la gráfica >\n",
    "plt.plot(fpr, tpr)\n",
    "plt.plot([0, 1], [0, 1], linestyle='--')\n",
    "plt.xlim([0.0, 1.0])\n",
    "plt.ylim([0.0, 1.0])\n",
    "plt.xlabel(\"Tasa de falsos positivos\")\n",
    "plt.ylabel(\"Tasa de verdaderos positivos\")\n",
    "plt.title(\"Curva ROC\")\n"
   ]
  },
  {
   "cell_type": "markdown",
   "metadata": {},
   "source": [
    "<div class=\"alert alert-block alert-success\">\n",
    "<b>Comentario del revisor</b> <a class=\"tocSkip\"></a>\n",
    "\n",
    "¡Excelente! La curva ROC se ve muy bien.\n",
    "</div>"
   ]
  },
  {
   "cell_type": "markdown",
   "metadata": {},
   "source": [
    "Con base en la gráfica podemos ver que el modelo es bueno ya que la linea ROC se aleja bastante de la linea diagonal."
   ]
  },
  {
   "cell_type": "code",
   "execution_count": 159,
   "metadata": {},
   "outputs": [
    {
     "name": "stdout",
     "output_type": "stream",
     "text": [
      "AUC-ROC score: 0.8383867684249502\n"
     ]
    }
   ],
   "source": [
    "# Calcular el score AUC-ROC\n",
    "auc_roc = roc_auc_score(target_test, probabilities_one_test)\n",
    "\n",
    "print(\"AUC-ROC score:\",auc_roc)"
   ]
  },
  {
   "cell_type": "markdown",
   "metadata": {},
   "source": [
    "Con base en el score AUC-ROC podemos ver el modelo es bueno, tiene una buena capacidad de distinguir entre clases"
   ]
  },
  {
   "cell_type": "markdown",
   "metadata": {},
   "source": [
    "## Conclusiones"
   ]
  },
  {
   "cell_type": "markdown",
   "metadata": {},
   "source": [
    "Despúes de realizar varias pruebas pudimos encontrar que el mejor modelo para predecir si un cliente se va ir del banco o no es el modelo de árbol, utilizando una codificación One-hot y aplicando la técnica de submuestreo para el equilibrio de las clases.\n",
    "\n",
    "Esta se conclusión se obtuvo por dos indicadores. El primero fue el F1, que debia ser igual o mayor a 0.59, y el segundo es el score AUC-ROC que fue de 0.8383, el cual se considera bueno.\n",
    "\n",
    "Con este modelo podemos crear estrategias junto con el banco para adelantarnos a las posibles salidas de clientes y ver que medidas tomar para que esto no suceda.\n",
    "\n"
   ]
  },
  {
   "cell_type": "markdown",
   "metadata": {},
   "source": [
    "<div class=\"alert alert-block alert-success\">\n",
    "<b>Comentario del revisor</b> <a class=\"tocSkip\"></a>\n",
    "\n",
    "Buenas conclusiones basadas en lo observado en el proyecto, además obtuviste un modelo que supera el umbra solicitado.\n",
    "</div>"
   ]
  },
  {
   "cell_type": "markdown",
   "metadata": {},
   "source": [
    "<div class=\"alert alert-block alert-success\">\n",
    "<b>Comentario del revisor</b> <a class=\"tocSkip\"></a>\n",
    "\n",
    "¡Hola!\n",
    "    \n",
    "Te quiero felicitar por tu proyecto, está bastante completo y se nota que manejas muy bien el lenguaje python. La exploración de distintos modelos hasta dar con uno que superará el umbral de F1 de 0.59 fue correcta. Puedo aprobar tu proyecto, éxito en los siguientes sprints. \n",
    "</div>"
   ]
  },
  {
   "cell_type": "code",
   "execution_count": null,
   "metadata": {},
   "outputs": [],
   "source": []
  }
 ],
 "metadata": {
  "ExecuteTimeLog": [
   {
    "duration": 16,
    "start_time": "2024-06-07T06:59:32.787Z"
   },
   {
    "duration": 6,
    "start_time": "2024-06-07T06:59:36.371Z"
   }
  ],
  "kernelspec": {
   "display_name": "Python 3 (ipykernel)",
   "language": "python",
   "name": "python3"
  },
  "language_info": {
   "codemirror_mode": {
    "name": "ipython",
    "version": 3
   },
   "file_extension": ".py",
   "mimetype": "text/x-python",
   "name": "python",
   "nbconvert_exporter": "python",
   "pygments_lexer": "ipython3",
   "version": "3.9.19"
  },
  "toc": {
   "base_numbering": 1,
   "nav_menu": {},
   "number_sections": true,
   "sideBar": true,
   "skip_h1_title": true,
   "title_cell": "Table of Contents",
   "title_sidebar": "Contents",
   "toc_cell": false,
   "toc_position": {},
   "toc_section_display": true,
   "toc_window_display": false
  }
 },
 "nbformat": 4,
 "nbformat_minor": 2
}
